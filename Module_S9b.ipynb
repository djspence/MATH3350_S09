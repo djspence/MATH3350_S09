{
 "cells": [
  {
   "cell_type": "markdown",
   "id": "ranging-amplifier",
   "metadata": {},
   "source": [
    "# MATH 3350 Course Notes - Module S9 _Supplement_\n",
    "\n",
    "## Analysis with Categorical Variables\n",
    "\n",
    "Recall that in multiple regression, we are trying to model a potential \"true\" relationship:\n",
    "<center>\n",
    "$y = \\beta_0 + \\beta_1 x_1 + \\beta_2 x_2 + ... \\beta_k x_k $\n",
    "</center>\n",
    "\n",
    "where $y$ is the _dependent_ variable (also known as the _response_ variable) and $x_1, x_2,..., x_k $ are the predictors (_independent_ variables).  \n",
    "\n",
    "We **estimate** this relationship with our regression model:\n",
    "\n",
    "<center>\n",
    "$\\widehat{y} = b_0 + b_1 x_1 + b_2 x_2 + ... b_k x_k $\n",
    "</center>\n",
    "\n",
    "Each predictor is assumed to be a number.  However, there is a mechanism for including categorical variables in the model. This can be done by explicitly having a binary variable (0 or 1) for different possible categories within the categorical variable.  R will perform this conversion automatically. We will use the class height data set as an example, where gender is the categorical variable we want to include in our analysis. "
   ]
  },
  {
   "cell_type": "code",
   "execution_count": null,
   "id": "flush-hungary",
   "metadata": {},
   "outputs": [],
   "source": [
    "#Look at data set\n",
    "heights <- read.csv(\"ClassHeightData.csv\")\n",
    "head(heights)"
   ]
  },
  {
   "cell_type": "markdown",
   "id": "chronic-perspective",
   "metadata": {},
   "source": [
    "First it is helpful to view the scatterplot, with different markers for the two genders."
   ]
  },
  {
   "cell_type": "code",
   "execution_count": null,
   "id": "mineral-sigma",
   "metadata": {},
   "outputs": [],
   "source": [
    "plot(heights$Height ~ heights$Shoe.Size,col=factor(heights$Gender),main=\"Height and Shoe Size by Gender\", \n",
    "     ylab=\"Height (inches)\", xlab=\"Shoe Size (US)\", pch=(as.integer(as.factor(heights$Gender))+15), cex=1.5 )"
   ]
  },
  {
   "cell_type": "markdown",
   "id": "advised-petroleum",
   "metadata": {},
   "source": [
    "Now we can create 2 separate models (one for each gender) and place these on the plot, as follows. "
   ]
  },
  {
   "cell_type": "code",
   "execution_count": null,
   "id": "soviet-stevens",
   "metadata": {},
   "outputs": [],
   "source": [
    "females <- heights[heights$Gender==\"F\",]\n",
    "males <- heights[heights$Gender==\"M\",]\n",
    "\n",
    "f_model <- lm(Height ~ Shoe.Size, data = females)\n",
    "m_model <- lm(Height ~ Shoe.Size, data = males)\n",
    "\n",
    "plot(heights$Height~heights$Shoe.Size,col=factor(heights$Gender),main=\"Height and Shoe Size by Gender\", \n",
    "     ylab=\"Height (inches)\", xlab=\"Shoe Size (US)\", pch=(as.integer(as.factor(heights$Gender))+15), cex=1.5)\n",
    "abline(f_model, lwd=2)\n",
    "abline(m_model, col=\"red\", lty=2, lwd=2)"
   ]
  },
  {
   "cell_type": "code",
   "execution_count": null,
   "id": "worth-equipment",
   "metadata": {},
   "outputs": [],
   "source": [
    "summary(f_model)"
   ]
  },
  {
   "cell_type": "code",
   "execution_count": null,
   "id": "another-numbers",
   "metadata": {},
   "outputs": [],
   "source": [
    "summary(m_model)"
   ]
  },
  {
   "cell_type": "markdown",
   "id": "usual-young",
   "metadata": {},
   "source": [
    "### Predictions with Gender-Specific Models\n",
    "The female model predicts that a female with shoe size 8.5 will have height $\\approx 50.636 + 1.818(8.5) \\approx 66.1$ inches. \n",
    "\n",
    "The male model predicts that a male with shoe size 8.5 will have height $\\approx 57.373 + 1.229(8.5) \\approx 67.8$ inches. \n",
    "\n",
    "## Predicting Height Using Only Gender\n",
    "What if we only want to use the categorical variable _Gender_ to predict height?"
   ]
  },
  {
   "cell_type": "code",
   "execution_count": null,
   "id": "intelligent-vinyl",
   "metadata": {},
   "outputs": [],
   "source": [
    "g_model <- lm(Height ~ Gender, data=heights)\n",
    "summary(g_model)"
   ]
  },
  {
   "cell_type": "markdown",
   "id": "effective-trinity",
   "metadata": {},
   "source": [
    "### Interpreting Coefficients for a Categorical Variable\n",
    "\n",
    "Notice that the only coefficient is **_GenderM_**. This should be treated as a **_1 for males and a 0 for females_**. \n",
    "\n",
    "Therefore, the predicted height for every female is $64.5 + 6.227(0) = 64.5$ inches.  \n",
    "The predicted height for every male is $64.5 + 6.227(1) \\approx 70.7$ inches.  \n",
    "\n",
    "Notice below that these predictions are simply the _mean height_ for each gender in this data set.\n"
   ]
  },
  {
   "cell_type": "code",
   "execution_count": null,
   "id": "bizarre-ordinary",
   "metadata": {},
   "outputs": [],
   "source": [
    "mean(females$Height)"
   ]
  },
  {
   "cell_type": "code",
   "execution_count": null,
   "id": "requested-penny",
   "metadata": {},
   "outputs": [],
   "source": [
    "mean(males$Height)"
   ]
  },
  {
   "cell_type": "markdown",
   "id": "foreign-carpet",
   "metadata": {},
   "source": [
    "### Using Gender and Shoe Size Together As Predictors\n",
    "\n",
    "\n",
    "Next, we use R to create one model that uses shoe size _and_ takes gender into account automatically.  "
   ]
  },
  {
   "cell_type": "code",
   "execution_count": null,
   "id": "under-regression",
   "metadata": {},
   "outputs": [],
   "source": [
    "#The '.' character indicates we want to use all variables (other than Height) as predictors in this model\n",
    "model <- lm(Height~., data=heights)   \n",
    "summary(model)"
   ]
  },
  {
   "cell_type": "markdown",
   "id": "sexual-google",
   "metadata": {},
   "source": [
    "### Interpreting Combined Model\n",
    "\n",
    "Again, we have GenderM as a predictor; this should be populated with a 0 when predicting for females and a 1 when predicting for males.\n",
    "\n",
    "The combined model predicts that a female with shoe size 8.5 will have height $\\approx 55.021 + 1.2431(8.5) + 2.2012(0) \\approx 65.6$ inches. \n",
    "\n",
    "The combined model predicts that a male with shoe size 8.5 will have height $\\approx 55.021 + 1.2431(8.5) + 2.2012(1)  \\approx 67.8$ inches. \n",
    "\n",
    "Finally, below are the diagnostic plots for the combined model. "
   ]
  },
  {
   "cell_type": "code",
   "execution_count": null,
   "id": "union-roads",
   "metadata": {},
   "outputs": [],
   "source": [
    "plot(model, which=c(1,2))"
   ]
  }
 ],
 "metadata": {
  "kernelspec": {
   "display_name": "R",
   "language": "R",
   "name": "ir"
  },
  "language_info": {
   "codemirror_mode": "r",
   "file_extension": ".r",
   "mimetype": "text/x-r-source",
   "name": "R",
   "pygments_lexer": "r",
   "version": "4.0.3"
  }
 },
 "nbformat": 4,
 "nbformat_minor": 5
}
