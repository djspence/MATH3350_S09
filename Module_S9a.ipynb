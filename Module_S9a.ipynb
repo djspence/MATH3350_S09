{
 "cells": [
  {
   "cell_type": "markdown",
   "id": "ranging-amplifier",
   "metadata": {},
   "source": [
    "# MATH 3350 Course Notes - Module S9 \n",
    "\n",
    "## Multiple Linear Regression\n",
    "\n",
    "Simple linear regression uses a single predictor $x$ (independent variable) to predict an outcome $y$ (dependent variable).  The \"true\" relationship $y=\\alpha + \\beta x$ is estimated by the model $y = a + bx$. \n",
    "\n",
    "This idea can be extended to use multiple predictors, using a method known as **_multiple regression_**. \n",
    "\n",
    "\n",
    "In this case, we are trying to model a potential \"true\" relationship:\n",
    "<center>\n",
    "$y = \\beta_0 + \\beta_1 x_1 + \\beta_2 x_2 + ... \\beta_k x_k $\n",
    "</center>\n",
    "\n",
    "where $x_1, x_2,..., x_k $ are the predictors.  Note that $\\beta_0$ is the intercept, and all other $\\beta_i$ are analogous to 'slopes' (one for each predictor.)\n",
    "\n",
    "We **estimate** this relationship with our regression model:\n",
    "\n",
    "<center>\n",
    "$\\widehat{y} = b_0 + b_1 x_1 + b_2 x_2 + ... b_k x_k $\n",
    "</center>\n",
    "\n",
    "\n",
    "We will investigate several models using a real estate data set with information about several homes."
   ]
  },
  {
   "cell_type": "code",
   "execution_count": null,
   "id": "flush-hungary",
   "metadata": {},
   "outputs": [],
   "source": [
    "#Look at data set\n",
    "houses <- read.csv(\"HousingBrief.csv\")\n",
    "head(houses)"
   ]
  },
  {
   "cell_type": "markdown",
   "id": "chronic-perspective",
   "metadata": {},
   "source": [
    "We want to predict the sales price of a house using some of the other variables. We can only visualize the relationship  between price and one other variable at a time, as shown below."
   ]
  },
  {
   "cell_type": "code",
   "execution_count": null,
   "id": "mineral-sigma",
   "metadata": {},
   "outputs": [],
   "source": [
    "plot(price2014~bedrooms, data=houses)"
   ]
  },
  {
   "cell_type": "code",
   "execution_count": null,
   "id": "soviet-stevens",
   "metadata": {},
   "outputs": [],
   "source": [
    "plot(price2014~squarefeet, data=houses)"
   ]
  },
  {
   "cell_type": "markdown",
   "id": "sexual-google",
   "metadata": {},
   "source": [
    "### Simple Models (1 predictor)"
   ]
  },
  {
   "cell_type": "code",
   "execution_count": null,
   "id": "prescribed-assist",
   "metadata": {},
   "outputs": [],
   "source": [
    "hmodel_1 <- lm(price2014 ~ bedrooms, data=houses)\n",
    "summary(hmodel_1)"
   ]
  },
  {
   "cell_type": "code",
   "execution_count": null,
   "id": "japanese-dallas",
   "metadata": {},
   "outputs": [],
   "source": [
    "hmodel_2 <- lm(price2014 ~ squarefeet, data=houses)\n",
    "summary(hmodel_2)\n"
   ]
  },
  {
   "cell_type": "markdown",
   "id": "desirable-football",
   "metadata": {},
   "source": [
    "### Multiple Regression Models "
   ]
  },
  {
   "cell_type": "code",
   "execution_count": null,
   "id": "brief-database",
   "metadata": {},
   "outputs": [],
   "source": [
    "hmodel_3 <- lm(price2014 ~ bedrooms + squarefeet, data=houses)\n",
    "summary(hmodel_3)"
   ]
  },
  {
   "cell_type": "markdown",
   "id": "rational-rwanda",
   "metadata": {},
   "source": [
    "#### Interpreting the Model\n",
    "\n",
    "**_Holding square footage constant_**, number of bedrooms does not play a significant role in predicting the sales price of the house.  \n",
    "\n",
    "The only significant predictor in this model is _squarefeet_.  \n",
    "\n",
    "The model accounts for $\\sim 63.6$% of the variability in home price (using adjusted $R^2$). \n",
    "\n",
    "\n",
    "### Models with Other Predictors"
   ]
  },
  {
   "cell_type": "code",
   "execution_count": null,
   "id": "inside-israel",
   "metadata": {},
   "outputs": [],
   "source": [
    "hmodel_4 <- lm(price2014 ~ bikescore, data=houses)\n",
    "summary(hmodel_4)"
   ]
  },
  {
   "cell_type": "code",
   "execution_count": null,
   "id": "technical-philadelphia",
   "metadata": {},
   "outputs": [],
   "source": [
    "hmodel_5 <- lm(price2014 ~ walkscore, data=houses)\n",
    "summary(hmodel_5)"
   ]
  },
  {
   "cell_type": "code",
   "execution_count": null,
   "id": "resident-yukon",
   "metadata": {},
   "outputs": [],
   "source": [
    "hmodel_6 <- lm(price2014 ~ bikescore+squarefeet, data=houses)\n",
    "summary(hmodel_6)"
   ]
  },
  {
   "cell_type": "code",
   "execution_count": null,
   "id": "activated-request",
   "metadata": {},
   "outputs": [],
   "source": [
    "hmodel_7 <- lm(price2014 ~ walkscore+squarefeet, data=houses)\n",
    "summary(hmodel_7)"
   ]
  },
  {
   "cell_type": "code",
   "execution_count": null,
   "id": "afraid-jenny",
   "metadata": {},
   "outputs": [],
   "source": [
    "hmodel_8 <- lm(price2014 ~ bedrooms+total_rooms, data=houses)\n",
    "summary(hmodel_8)"
   ]
  },
  {
   "cell_type": "code",
   "execution_count": null,
   "id": "italian-concentrate",
   "metadata": {},
   "outputs": [],
   "source": [
    "hmodel_9 <- lm(price2014 ~ bedrooms+full_baths+half_baths+total_rooms, data=houses)\n",
    "summary(hmodel_9)"
   ]
  },
  {
   "cell_type": "code",
   "execution_count": null,
   "id": "hollow-month",
   "metadata": {},
   "outputs": [],
   "source": [
    "hmodel_10 <- lm(price2014 ~ bedrooms+full_baths+half_baths+total_rooms+squarefeet, data=houses)\n",
    "summary(hmodel_10)"
   ]
  },
  {
   "cell_type": "markdown",
   "id": "unavailable-publisher",
   "metadata": {},
   "source": [
    "#### Interpreting Coefficients\n",
    "\n",
    "The coefficient of $30.22$ for the _full_baths_ variable can be interpreted as follows:  \n",
    "\n",
    "**_Holding all other predictors constant_**, for every additional full bath, the predicted sales price increases approximately $30.2K, on average.\n",
    "\n",
    "The coefficient of $0.11886$ for _squarefeet_ can be scaled to $\\frac{11.889}{100}$ and interpreted as follows: \n",
    "\n",
    "**_Holding all other predictors constant_**, for every additional 100 square feet, the predicted sales price increases approximately $11.9K, on average.\n",
    "\n",
    "\n",
    "### Evaluating the Model\n",
    "\n",
    "The same conditions that we checked in simple linear regression must also be met in multiple regression:\n",
    "1. **Linearity**: The relationship between the predictors and dependent variable is linear\n",
    "2. **Normality**: The residuals of all data points ($y_i - \\widehat{y}_i$ for each predicted y value) are approximately normally distributed\n",
    "3. **Homoscedasticity**: The variance of residuals remains the same, regardless of the value being predicted\n",
    "4. **Independence**: All observations in the sample are independent of each other\n",
    "\n",
    "We can still test these assumptions by examining diagnostic plots that R generates. Most of what we need to verify can be checked in the **_residual plot_** and the **_normal quantile plot_**.  We will restrict our diagnostics below to those two plots.\n",
    "\n"
   ]
  },
  {
   "cell_type": "code",
   "execution_count": null,
   "id": "broad-spouse",
   "metadata": {},
   "outputs": [],
   "source": [
    "#Display R's default diagnostic plots for our linear model\n",
    "plot(hmodel_10, which=c(1,2))"
   ]
  },
  {
   "cell_type": "markdown",
   "id": "stuck-terrorist",
   "metadata": {},
   "source": [
    "#### Observations from the Diagnostic Plots\n",
    "\n",
    "1. The first plot (residual plot) shows that residuals for lower predicted home prices tend to have smaller magnitude than residuals for higher predicted prices.  This suggests that our homoscedasticity condition is not fully met.\n",
    "2. The second plot (normal quantile plot) indicates that residuals may not meet the assumption of being normally distributed, especially in the uppermost quantile, and particularly for house 97. \n",
    "\n",
    "The conditions are not perfectly met, but the violations are relatively minor (not extreme). There are occasions where an analyst would choose to use this model anyway, but conclusions drawn from the model should be taken with caution.\n"
   ]
  }
 ],
 "metadata": {
  "kernelspec": {
   "display_name": "R",
   "language": "R",
   "name": "ir"
  },
  "language_info": {
   "codemirror_mode": "r",
   "file_extension": ".r",
   "mimetype": "text/x-r-source",
   "name": "R",
   "pygments_lexer": "r",
   "version": "4.0.3"
  }
 },
 "nbformat": 4,
 "nbformat_minor": 5
}
